{
  "nbformat": 4,
  "nbformat_minor": 0,
  "metadata": {
    "colab": {
      "provenance": [],
      "authorship_tag": "ABX9TyMP0XUgU3xk89PY00WWJksZ",
      "include_colab_link": true
    },
    "kernelspec": {
      "name": "python3",
      "display_name": "Python 3"
    },
    "language_info": {
      "name": "python"
    }
  },
  "cells": [
    {
      "cell_type": "markdown",
      "metadata": {
        "id": "view-in-github",
        "colab_type": "text"
      },
      "source": [
        "<a href=\"https://colab.research.google.com/github/byrcewang/DL_SS2H/blob/main/Architecture_LSTM.ipynb\" target=\"_parent\"><img src=\"https://colab.research.google.com/assets/colab-badge.svg\" alt=\"Open In Colab\"/></a>"
      ]
    },
    {
      "cell_type": "code",
      "execution_count": 1,
      "metadata": {
        "colab": {
          "base_uri": "https://localhost:8080/"
        },
        "id": "Lb6ao5THsjE_",
        "outputId": "794ee369-030e-4d13-b463-3fbb276827c2"
      },
      "outputs": [
        {
          "output_type": "stream",
          "name": "stdout",
          "text": [
            "Model: \"sequential\"\n",
            "_________________________________________________________________\n",
            " Layer (type)                Output Shape              Param #   \n",
            "=================================================================\n",
            " embedding (Embedding)       (None, None, 64)          640000    \n",
            "                                                                 \n",
            " lstm (LSTM)                 (None, None, 128)         98816     \n",
            "                                                                 \n",
            " lstm_1 (LSTM)               (None, 128)               131584    \n",
            "                                                                 \n",
            " dense (Dense)               (None, 10000)             1290000   \n",
            "                                                                 \n",
            "=================================================================\n",
            "Total params: 2160400 (8.24 MB)\n",
            "Trainable params: 2160400 (8.24 MB)\n",
            "Non-trainable params: 0 (0.00 Byte)\n",
            "_________________________________________________________________\n"
          ]
        }
      ],
      "source": [
        "import tensorflow as tf\n",
        "\n",
        "# 定义模型参数\n",
        "vocab_size = 10000\n",
        "embedding_dim = 64\n",
        "lstm_units = 128\n",
        "\n",
        "# 定义模型\n",
        "model = tf.keras.Sequential([\n",
        "    tf.keras.layers.Embedding(input_dim=vocab_size, output_dim=embedding_dim),\n",
        "    tf.keras.layers.LSTM(units=lstm_units, return_sequences=True),\n",
        "    tf.keras.layers.LSTM(units=lstm_units),\n",
        "    tf.keras.layers.Dense(units=vocab_size)\n",
        "])\n",
        "\n",
        "# 显示模型摘要\n",
        "model.summary()"
      ]
    },
    {
      "cell_type": "code",
      "source": [
        "import tensorflow as tf\n",
        "\n",
        "# 定义模型参数\n",
        "vocab_size = 10000\n",
        "embedding_dim = 64\n",
        "lstm_units = 128\n",
        "\n",
        "# 定义一个简化的 LSTM 模型\n",
        "model = tf.keras.Sequential([\n",
        "    # 嵌入层\n",
        "    tf.keras.layers.Embedding(input_dim=vocab_size, output_dim=embedding_dim),\n",
        "\n",
        "    # 单个 LSTM 层\n",
        "    tf.keras.layers.LSTM(units=lstm_units),\n",
        "\n",
        "    # 密集层（全连接层）\n",
        "    tf.keras.layers.Dense(units=vocab_size)\n",
        "])\n",
        "\n",
        "# 显示模型摘要\n",
        "model.summary()\n"
      ],
      "metadata": {
        "colab": {
          "base_uri": "https://localhost:8080/"
        },
        "id": "VXxJeVDAvwYn",
        "outputId": "0a1a816e-38f5-42d6-87dc-4ff04ac089a9"
      },
      "execution_count": 2,
      "outputs": [
        {
          "output_type": "stream",
          "name": "stdout",
          "text": [
            "Model: \"sequential_1\"\n",
            "_________________________________________________________________\n",
            " Layer (type)                Output Shape              Param #   \n",
            "=================================================================\n",
            " embedding_1 (Embedding)     (None, None, 64)          640000    \n",
            "                                                                 \n",
            " lstm_2 (LSTM)               (None, 128)               98816     \n",
            "                                                                 \n",
            " dense_1 (Dense)             (None, 10000)             1290000   \n",
            "                                                                 \n",
            "=================================================================\n",
            "Total params: 2028816 (7.74 MB)\n",
            "Trainable params: 2028816 (7.74 MB)\n",
            "Non-trainable params: 0 (0.00 Byte)\n",
            "_________________________________________________________________\n"
          ]
        }
      ]
    }
  ]
}